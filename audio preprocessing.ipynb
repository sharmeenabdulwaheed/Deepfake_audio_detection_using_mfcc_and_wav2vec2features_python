{
 "cells": [
  {
   "cell_type": "markdown",
   "id": "dfcfc1f5-f023-4293-a21e-babac2a3eda9",
   "metadata": {},
   "source": [
    "## extracting mfcc features of audio"
   ]
  },
  {
   "cell_type": "code",
   "execution_count": 1,
   "id": "ea27fbb2-6e16-433a-a3de-0f5aa0bc354b",
   "metadata": {},
   "outputs": [],
   "source": [
    "import librosa\n",
    "import numpy as np"
   ]
  },
  {
   "cell_type": "code",
   "execution_count": 2,
   "id": "d323d0ad-f64b-4a31-b716-ffdb305c3f7d",
   "metadata": {},
   "outputs": [],
   "source": [
    "def mfcc_extraction(path):\n",
    "    x,sr=librosa.load(path)\n",
    "    mfcc=np.mean(librosa.feature.mfcc(y=x, sr=sr).T, axis=0)\n",
    "    return mfcc\n",
    "path=r\"C:\\Users\\U$ER\\Documents\\audio processing\\check_data\\checkaudio.wav\""
   ]
  },
  {
   "cell_type": "code",
   "execution_count": 3,
   "id": "7ad9fb97-a62e-47b5-9946-26f890049aa1",
   "metadata": {},
   "outputs": [],
   "source": [
    "features=mfcc_extraction(path)"
   ]
  },
  {
   "cell_type": "code",
   "execution_count": 4,
   "id": "115db491-e202-4016-ad51-ee1ed80fd0b6",
   "metadata": {},
   "outputs": [
    {
     "data": {
      "text/plain": [
       "(20,)"
      ]
     },
     "execution_count": 4,
     "metadata": {},
     "output_type": "execute_result"
    }
   ],
   "source": [
    "features.shape"
   ]
  },
  {
   "cell_type": "markdown",
   "id": "7920e1d1-2a88-4164-9abc-0a2ec0eeb7b5",
   "metadata": {},
   "source": [
    "## extract features using wav2vec2"
   ]
  },
  {
   "cell_type": "code",
   "execution_count": 5,
   "id": "556b5993-d93c-4200-b7ba-544e2091e13b",
   "metadata": {},
   "outputs": [],
   "source": [
    "from transformers import Wav2Vec2Model, Wav2Vec2Processor\n",
    "import torch\n",
    "import transformers\n",
    "transformers.logging.set_verbosity_error()"
   ]
  },
  {
   "cell_type": "code",
   "execution_count": 6,
   "id": "e4abeb59-b313-4950-92ec-6741d82d1d44",
   "metadata": {},
   "outputs": [],
   "source": [
    "m=\"facebook/wav2vec2-base-960h\"\n",
    "preprocessor=Wav2Vec2Processor.from_pretrained(m)\n",
    "model=Wav2Vec2Model.from_pretrained(m)"
   ]
  },
  {
   "cell_type": "code",
   "execution_count": 56,
   "id": "820baf4b-c3d0-4a71-9f03-0e87cefff0b6",
   "metadata": {},
   "outputs": [],
   "source": [
    "def wav2vec2_extraction(path):\n",
    "    m=\"facebook/wav2vec2-base-960h\"\n",
    "    preprocessor=Wav2Vec2Processor.from_pretrained(m)\n",
    "    model=Wav2Vec2Model.from_pretrained(m)\n",
    "    audio,sr=librosa.load(path, sr=16000)\n",
    "    inputs=preprocessor(audio, sampling_rate=sr, padding=True,return_tensors='pt')\n",
    "    with torch.no_grad():\n",
    "        features=model(**inputs).last_hidden_state\n",
    "    np_features=features.squeeze().cpu().numpy()\n",
    "    return np_features"
   ]
  },
  {
   "cell_type": "code",
   "execution_count": 8,
   "id": "59e054b2-7229-47fe-8741-062fffff0c9b",
   "metadata": {},
   "outputs": [],
   "source": [
    "path=r\"C:\\Users\\U$ER\\Documents\\audio processing\\check_data\\checkaudio.wav\"\n",
    "features=wav2vec2_extraction(path)"
   ]
  },
  {
   "cell_type": "code",
   "execution_count": 9,
   "id": "322b2f50-58d4-4c3e-a42f-5ce4aa42b1d0",
   "metadata": {},
   "outputs": [
    {
     "data": {
      "text/plain": [
       "(892, 768)"
      ]
     },
     "execution_count": 9,
     "metadata": {},
     "output_type": "execute_result"
    }
   ],
   "source": [
    "features.shape"
   ]
  },
  {
   "cell_type": "code",
   "execution_count": 10,
   "id": "b5e9821c-90fe-460a-8f7a-4a5032013d09",
   "metadata": {},
   "outputs": [],
   "source": [
    "import numpy as np\n",
    "def truncate(features, target_size):\n",
    "    current_size=features.shape[0]\n",
    "    if current_size>=target_size:\n",
    "        return features[:target_size, :]\n",
    "    else:\n",
    "        #padding with zeros\n",
    "        pad_width=target_size-current_size\n",
    "        padding=np.zeros((pad_width, features.shape[1]))\n",
    "        return np.vstack((features, padding))"
   ]
  },
  {
   "cell_type": "code",
   "execution_count": 11,
   "id": "21ace80c-5eed-42af-a3ad-07659cc0643d",
   "metadata": {},
   "outputs": [
    {
     "data": {
      "text/plain": [
       "(50, 768)"
      ]
     },
     "execution_count": 11,
     "metadata": {},
     "output_type": "execute_result"
    }
   ],
   "source": [
    "truncate(features, 50).shape"
   ]
  },
  {
   "cell_type": "code",
   "execution_count": 12,
   "id": "1d841a0f-d554-45ed-95f4-9229287ec3ae",
   "metadata": {},
   "outputs": [],
   "source": [
    "from sklearn.decomposition import PCA\n",
    "\n",
    "\n",
    "def reduce_features(features, max_components=50):\n",
    "    n_samples = features.shape[0]\n",
    "    n_components = min(n_samples, max_components)  # Avoid exceeding available samples\n",
    "    \n",
    "    pca = PCA(n_components=n_components)\n",
    "    reduced_features = pca.fit_transform(features)  # Shape (n_samples, n_components)\n",
    "    return np.mean(reduced_features, axis=0) "
   ]
  },
  {
   "cell_type": "markdown",
   "id": "fd09cc10-bcba-4dfa-a2a8-2f1507abd9e4",
   "metadata": {},
   "source": [
    "## saving functions in pickle file"
   ]
  },
  {
   "cell_type": "code",
   "execution_count": 57,
   "id": "478f5b2c-c38c-4092-9c5f-14db79be0a1a",
   "metadata": {},
   "outputs": [],
   "source": [
    "import dill\n",
    "\n",
    "# Save each function separately\n",
    "with open('mfcc_extraction.pkl', 'wb') as f:\n",
    "    dill.dump(mfcc_extraction, f)\n",
    "\n",
    "with open('wav2vec2_extraction.pkl', 'wb') as f:\n",
    "    dill.dump(wav2vec2_extraction, f)\n",
    "\n",
    "with open('reduce_features.pkl', 'wb') as f:\n",
    "    dill.dump(reduce_features, f)\n"
   ]
  },
  {
   "cell_type": "markdown",
   "id": "ce4dc62a-0302-40c9-8481-c146c999344b",
   "metadata": {},
   "source": [
    "## combining mfcc and wav2vec2 features and preparing them to train ML model"
   ]
  },
  {
   "cell_type": "code",
   "execution_count": 13,
   "id": "20b9bcb2-b02c-458c-a711-fc8cd78cb814",
   "metadata": {},
   "outputs": [],
   "source": [
    "real_audios=\"Audio Dataset/real\"\n",
    "fake_audios=\"Audio Dataset/fake\""
   ]
  },
  {
   "cell_type": "code",
   "execution_count": 14,
   "id": "d2b8718a-b3b3-4adc-bc03-0b506f060647",
   "metadata": {},
   "outputs": [],
   "source": [
    "# Initialize lists to store MFCC features and corresponding labels\n",
    "final_features = []\n",
    "labels = []\n",
    "\n"
   ]
  },
  {
   "cell_type": "code",
   "execution_count": 15,
   "id": "67a72b1c-c899-40fd-9530-7d9a3ffaa704",
   "metadata": {},
   "outputs": [],
   "source": [
    "# Process real audio files\n",
    "import os\n",
    "for filename in os.listdir(real_audios):\n",
    "    file_path = os.path.join(real_audios, filename)\n",
    "\n",
    "    #extract mfcc features\n",
    "    features1 = mfcc_extraction(file_path)\n",
    "    #extract wav2vec2 features of audio\n",
    "    features2=wav2vec2_extraction(file_path)\n",
    "    features2=reduce_features(features2, max_components=50)\n",
    "    #combine features in horizontal stack\n",
    "    combine_features=np.hstack((features1, features2))\n",
    "    final_features.append(combine_features)\n",
    "    labels.append(0)  # Label 0 for real audio"
   ]
  },
  {
   "cell_type": "code",
   "execution_count": 16,
   "id": "103bc87f-8aaa-4386-8e3c-90149b03d0a3",
   "metadata": {},
   "outputs": [],
   "source": [
    "# Process fake audio files\n",
    "import os\n",
    "for filename in os.listdir(fake_audios):\n",
    "    file_path = os.path.join(fake_audios, filename)\n",
    "\n",
    "    #extract mfcc features\n",
    "    features1 = mfcc_extraction(file_path)\n",
    "    #extract wav2vec2 features of audio\n",
    "    features2=wav2vec2_extraction(file_path)\n",
    "    features2=reduce_features(features2, max_components=50)\n",
    "    #combine features in horizontal stack\n",
    "    combine_features=np.hstack((features1, features2))\n",
    "    final_features.append(combine_features)\n",
    "    labels.append(1)  # Label 1 for fake audio"
   ]
  },
  {
   "cell_type": "markdown",
   "id": "bed3d978-6c8b-4274-9b86-2458c8d641a6",
   "metadata": {},
   "source": [
    "## saving features in a pickle file"
   ]
  },
  {
   "cell_type": "code",
   "execution_count": 48,
   "id": "d4a69084-1200-4811-81d8-150b746160c0",
   "metadata": {},
   "outputs": [],
   "source": [
    "import pickle\n",
    "with open('features.pkl', 'wb') as f:\n",
    "    pickle.dump(final_features, f)\n"
   ]
  },
  {
   "cell_type": "code",
   "execution_count": 50,
   "id": "0545d631-5ca4-4983-bd6c-0f9e110dcfb8",
   "metadata": {},
   "outputs": [],
   "source": [
    "with open('labels.pkl', 'wb') as f:\n",
    "    pickle.dump(labels, f)"
   ]
  },
  {
   "cell_type": "code",
   "execution_count": 17,
   "id": "fe3a930b-438c-4410-aca9-45df6ecacb0e",
   "metadata": {},
   "outputs": [
    {
     "name": "stdout",
     "output_type": "stream",
     "text": [
      "Min length: 49\n",
      "Max length: 70\n"
     ]
    }
   ],
   "source": [
    "feature_lengths = [len(f) for f in final_features]\n",
    "print(\"Min length:\", min(feature_lengths))\n",
    "print(\"Max length:\", max(feature_lengths))\n"
   ]
  },
  {
   "cell_type": "code",
   "execution_count": 18,
   "id": "0ed7a28f-3b4b-4398-8127-0b32a12e9e30",
   "metadata": {},
   "outputs": [
    {
     "name": "stdout",
     "output_type": "stream",
     "text": [
      "Padded Features Shape: (9988, 70)\n"
     ]
    }
   ],
   "source": [
    "import numpy as np\n",
    "\n",
    "max_len = max(len(f) for f in final_features)  # Find the longest feature vector\n",
    "\n",
    "padded_features = np.array([\n",
    "    np.pad(f, (0, max_len - len(f)), mode='constant') for f in final_features\n",
    "])\n",
    "\n",
    "print(\"Padded Features Shape:\", padded_features.shape)  # Should be (num_samples, max_len)\n"
   ]
  },
  {
   "cell_type": "code",
   "execution_count": 19,
   "id": "7dae037e-e4c0-48bc-bb56-2cf4f62c7c85",
   "metadata": {},
   "outputs": [
    {
     "name": "stdout",
     "output_type": "stream",
     "text": [
      "Final Shape: (9988, 70)\n"
     ]
    }
   ],
   "source": [
    "final_features = padded_features  # or processed_features if truncated\n",
    "labels = np.array(labels)  # Convert labels to NumPy\n",
    "\n",
    "print(\"Final Shape:\", final_features.shape)\n"
   ]
  },
  {
   "cell_type": "code",
   "execution_count": 20,
   "id": "0743df6e-02fc-4448-aa18-266e65860031",
   "metadata": {},
   "outputs": [
    {
     "data": {
      "text/plain": [
       "numpy.ndarray"
      ]
     },
     "execution_count": 20,
     "metadata": {},
     "output_type": "execute_result"
    }
   ],
   "source": [
    "type(final_features)"
   ]
  },
  {
   "cell_type": "code",
   "execution_count": 21,
   "id": "c8392e7c-1a3f-410c-8cf5-f1085770fb2c",
   "metadata": {},
   "outputs": [
    {
     "data": {
      "text/plain": [
       "numpy.ndarray"
      ]
     },
     "execution_count": 21,
     "metadata": {},
     "output_type": "execute_result"
    }
   ],
   "source": [
    "type(final_features[0])"
   ]
  },
  {
   "cell_type": "code",
   "execution_count": 22,
   "id": "d1e9fc58-a13a-4d5b-b2a2-f8f80c0db1c6",
   "metadata": {},
   "outputs": [
    {
     "data": {
      "text/plain": [
       "(70,)"
      ]
     },
     "execution_count": 22,
     "metadata": {},
     "output_type": "execute_result"
    }
   ],
   "source": [
    "final_features[1].shape"
   ]
  },
  {
   "cell_type": "code",
   "execution_count": null,
   "id": "cdd88842-be64-4a7c-809c-ec32aebf2619",
   "metadata": {},
   "outputs": [],
   "source": []
  }
 ],
 "metadata": {
  "kernelspec": {
   "display_name": "Python 3 (ipykernel)",
   "language": "python",
   "name": "python3"
  },
  "language_info": {
   "codemirror_mode": {
    "name": "ipython",
    "version": 3
   },
   "file_extension": ".py",
   "mimetype": "text/x-python",
   "name": "python",
   "nbconvert_exporter": "python",
   "pygments_lexer": "ipython3",
   "version": "3.12.7"
  }
 },
 "nbformat": 4,
 "nbformat_minor": 5
}
